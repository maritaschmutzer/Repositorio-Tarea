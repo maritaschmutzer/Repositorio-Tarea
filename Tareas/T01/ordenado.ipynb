{
 "cells": [
  {
   "cell_type": "code",
   "execution_count": 37,
   "metadata": {},
   "outputs": [],
   "source": [
    "from CONSTANTES import ATRACCIONES\n",
    "from CONSTANTES import PERSONAS"
   ]
  },
  {
   "cell_type": "code",
   "execution_count": 38,
   "metadata": {},
   "outputs": [
    {
     "data": {
      "text/plain": [
       "{'Aladelta': [10, 1150, 330000, 2],\n",
       " 'Barco Vikingo': [29, 1500, 350000, 4],\n",
       " 'Boomerang': [11, 1050, 320000, 5],\n",
       " 'Booster': [1, 500, 290000, 1],\n",
       " 'Cataratas': [5, 1200, 200000, 2],\n",
       " 'Extreme': [28, 750, 260000, 3],\n",
       " 'Jet Star': [24, 350, 230000, 1],\n",
       " 'Martillo': [19, 1550, 240000, 3],\n",
       " 'MaxiDance': [17, 1750, 270000, 2],\n",
       " 'Noria': [16, 900, 370000, 4],\n",
       " 'Rana Loca': [6, 1700, 310000, 5],\n",
       " 'Rata Vacilona': [4, 1250, 250000, 4],\n",
       " 'The Limit': [23, 1950, 360000, 5],\n",
       " 'Top Gun': [26, 800, 390000, 5]}"
      ]
     },
     "execution_count": 38,
     "metadata": {},
     "output_type": "execute_result"
    }
   ],
   "source": [
    "ATRACCIONES"
   ]
  },
  {
   "cell_type": "code",
   "execution_count": 45,
   "metadata": {},
   "outputs": [],
   "source": [
    "class Personas:\n",
    "    def __init__(self):\n",
    "        pass\n",
    "\n",
    "class Dueño(Personas):\n",
    "    def __init__(self, atracciones_activas=[], hc_dueño= 100000):\n",
    "        self.atracciones_activas= atracciones_activas\n",
    "        self.hc_dueño=hc_dueño\n",
    "    def atracciones_iniciales():\n",
    "        llaves=[]\n",
    "        for a in ATRACCIONES.keys():\n",
    "            llaves.append(a)\n",
    "    def agregar_atraccion(self, hc, atracciones_activas):\n",
    "        #esta funcion se llama cuando hc== 500000\n",
    "        #atracciones_activas=[]\n",
    "        #hc=500000\n",
    "        #atracciones_activas= lista_cuatro_baratas\n",
    "        lista_ordenada_entrada_atracciones =[]\n",
    "        for i in ATRACCIONES.items():\n",
    "            if i not in atracciones_activas:\n",
    "                lista_ordenada_entrada_atracciones.append(i)\n",
    "\n",
    "        lista_ordenada_entrada_atracciones.sort()\n",
    "        lista_ordenada_entrada_atracciones.sort(key=lambda x: x[1][1])\n",
    "        lista_ordenada_entrada_atracciones.reverse()\n",
    "\n",
    "        atracciones_activas.append(lista_ordenada_entrada_atracciones[0])\n",
    "        hc= hc-250000\n",
    "    def subir_precios(self, hc, atracciones_activas):\n",
    "        #esta se ejecuta cuando hc es menor a 100000\n",
    "        for i in range(len(atracciones_activas)):\n",
    "            atracciones_activas[i][1][1]= (atracciones_activas[i][1][1])*2\n",
    "            \n"
   ]
  },
  {
   "cell_type": "code",
   "execution_count": 46,
   "metadata": {},
   "outputs": [
    {
     "name": "stdout",
     "output_type": "stream",
     "text": [
      "[('MaxiDance', [17, 1750, 270000, 2]), ('Rana Loca', [6, 1700, 310000, 5]), ('Barco Vikingo', [29, 1500, 350000, 4]), ('Aladelta', [10, 1150, 330000, 2]), ('Boomerang', [11, 1050, 320000, 5]), ('Noria', [16, 900, 370000, 4]), ('Top Gun', [26, 800, 390000, 5]), ('Extreme', [28, 750, 260000, 3]), ('Booster', [1, 500, 290000, 1])]\n",
      "[('Cataratas', [5, 2400, 200000, 2]), ('Jet Star', [24, 700, 230000, 1]), ('Martillo', [19, 3100, 240000, 3]), ('Rata Vacilona', [4, 2500, 250000, 4]), ('The Limit', [23, 3900, 360000, 5])]\n",
      "250000\n",
      "[('Cataratas', [5, 4800, 200000, 2]), ('Jet Star', [24, 1400, 230000, 1]), ('Martillo', [19, 6200, 240000, 3]), ('Rata Vacilona', [4, 5000, 250000, 4]), ('The Limit', [23, 7800, 360000, 5])]\n"
     ]
    }
   ],
   "source": [
    "lista_ordenada_precio_atracciones =[]\n",
    "for i in ATRACCIONES.items():\n",
    "    lista_ordenada_precio_atracciones.append(i)\n",
    "\n",
    "lista_ordenada_precio_atracciones.sort()\n",
    "lista_ordenada_precio_atracciones.sort(key=lambda x: x[1][2])\n",
    "\n",
    "lista_cuatro_baratas = lista_ordenada_precio_atracciones[0:4]\n",
    "\n",
    "#creamos lista con atracciones activas, que al principio son las 4 mas baratas\n",
    "atracciones_activas=[]\n",
    "hc=500000\n",
    "atracciones_activas= lista_cuatro_baratas\n",
    "#creamos lista con las no activas ordenadas por precio de entrada \n",
    "lista_ordenada_entrada_atracciones =[]\n",
    "for i in ATRACCIONES.items():\n",
    "    if i not in atracciones_activas:\n",
    "        lista_ordenada_entrada_atracciones.append(i)\n",
    "\n",
    "lista_ordenada_entrada_atracciones.sort()\n",
    "lista_ordenada_entrada_atracciones.sort(key=lambda x: x[1][1])\n",
    "lista_ordenada_entrada_atracciones.reverse()\n",
    "\n",
    "atracciones_activas.append(lista_ordenada_entrada_atracciones[0])\n",
    "lista_ordenada_entrada_atracciones.remove(lista_ordenada_entrada_atracciones[0])\n",
    "hc= hc-250000\n",
    "print(lista_ordenada_entrada_atracciones)\n",
    "print(atracciones_activas)\n",
    "print(hc)\n",
    "\n",
    "for i in range(len(atracciones_activas)):\n",
    "    atracciones_activas[i][1][1]= (atracciones_activas[i][1][1])*2\n",
    "print(atracciones_activas)"
   ]
  },
  {
   "cell_type": "code",
   "execution_count": null,
   "metadata": {},
   "outputs": [],
   "source": [
    "#simulacion\n",
    "\n",
    "ir sumando hc "
   ]
  },
  {
   "cell_type": "code",
   "execution_count": null,
   "metadata": {},
   "outputs": [],
   "source": []
  }
 ],
 "metadata": {
  "kernelspec": {
   "display_name": "Python 3",
   "language": "python",
   "name": "python3"
  },
  "language_info": {
   "codemirror_mode": {
    "name": "ipython",
    "version": 3
   },
   "file_extension": ".py",
   "mimetype": "text/x-python",
   "name": "python",
   "nbconvert_exporter": "python",
   "pygments_lexer": "ipython3",
   "version": "3.6.4"
  }
 },
 "nbformat": 4,
 "nbformat_minor": 2
}
