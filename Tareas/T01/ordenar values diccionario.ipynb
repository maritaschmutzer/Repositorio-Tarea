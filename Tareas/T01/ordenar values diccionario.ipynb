{
 "cells": [
  {
   "cell_type": "code",
   "execution_count": 19,
   "metadata": {},
   "outputs": [
    {
     "name": "stdout",
     "output_type": "stream",
     "text": [
      "[('c', [1, 0]), ('d', [1, 8]), ('a', [2, 1]), ('b', [3, 5])]\n"
     ]
    }
   ],
   "source": [
    "d={\"a\":[2,1], \"b\":[3,5], \"d\":[1,8], \"c\":[1,0]}\n",
    "\n",
    "\n",
    "\n",
    "\n",
    "lista =[]\n",
    "for i in d.items():\n",
    "    lista.append(i)\n",
    "\n",
    "lista.sort()\n",
    "lista.sort(key=lambda x: x[1][0])\n",
    "print(lista)\n",
    "\n"
   ]
  },
  {
   "cell_type": "code",
   "execution_count": null,
   "metadata": {},
   "outputs": [],
   "source": [
    "lista = []\n",
    "lista_baratas = []\n",
    "contador = 1\n",
    "for i in ATRACCIONES.keys():\n",
    "    lista.append(i)\n",
    "    b = lista[0]\n",
    "while contador <= 4:\n",
    "    for a in lista:\n",
    "        if ATRACCIONES[a][2] < ATRACCIONES[b][2]:\n",
    "            b = a\n",
    "    lista_baratas.append(b)\n",
    "    lista.remove(a)\n",
    "    contador = contador + 1\n",
    "    \n",
    "print(lista)\n",
    "print(lista_baratas)"
   ]
  },
  {
   "cell_type": "code",
   "execution_count": null,
   "metadata": {},
   "outputs": [],
   "source": []
  }
 ],
 "metadata": {
  "kernelspec": {
   "display_name": "Python 3",
   "language": "python",
   "name": "python3"
  },
  "language_info": {
   "codemirror_mode": {
    "name": "ipython",
    "version": 3
   },
   "file_extension": ".py",
   "mimetype": "text/x-python",
   "name": "python",
   "nbconvert_exporter": "python",
   "pygments_lexer": "ipython3",
   "version": "3.6.4"
  }
 },
 "nbformat": 4,
 "nbformat_minor": 2
}
