{
 "cells": [
  {
   "cell_type": "code",
   "execution_count": 118,
   "metadata": {},
   "outputs": [
    {
     "data": {
      "text/plain": [
       "[(27572, 45, 'Amber Gutierrez', '2005-10-16'),\n",
       " (65694, 228, 'Michael Dunn', '2005-03-11'),\n",
       " (82045, 169, 'Rachel Freeman', '2009-09-23'),\n",
       " (51794, 121, 'Meghan Escobar', '2012-09-22'),\n",
       " (53954, 74, 'Sandra Faulkner', '2011-08-11'),\n",
       " (30091, 101, 'Dana Salazar', '2017-11-16'),\n",
       " (40237, 84, 'Miss Dominique Gray DVM', '2012-06-05'),\n",
       " (72761, 286, 'Nicholas Smith', '2007-05-26'),\n",
       " (24525, 101, 'Tonya Crane', '2000-07-14'),\n",
       " (93834, 177, 'Richard Martinez', '2004-01-10'),\n",
       " (34568, 17, 'Deborah Walker', '2010-07-29'),\n",
       " (81548, 92, 'Jean Ellis', '2014-12-19'),\n",
       " (12751, 218, 'Christopher Ortiz', '2001-12-23'),\n",
       " (53625, 65, 'Jennifer Rodriguez', '2005-03-07'),\n",
       " (72798, 270, 'Gilbert Johnson', '2016-05-24'),\n",
       " (5296, 245, 'Molly Morrison', '2009-03-25'),\n",
       " (65314, 290, 'Karen Guzman', '2014-09-03'),\n",
       " (16427, 279, 'Reginald Hancock', '2004-09-20'),\n",
       " (98332, 282, 'Emily Diaz', '2002-11-23'),\n",
       " (83806, 136, 'Sheila Rose', '2010-10-04'),\n",
       " (81559, 161, 'Megan Powell', '2004-06-11'),\n",
       " (50276, 72, 'Natasha Nguyen', '2014-07-31'),\n",
       " (77565, 220, 'Christina Mendoza', '2006-09-03'),\n",
       " (92794, 241, 'Crystal Castillo', '2014-07-12'),\n",
       " (84919, 111, 'Sheila Garcia', '2003-02-26'),\n",
       " (42891, 141, 'Shannon Foster', '2012-06-01'),\n",
       " (2672, 68, 'Theresa Mosley', '2013-06-05'),\n",
       " (6170, 280, 'Stephanie Perkins DDS', '2015-07-30'),\n",
       " (9645, 237, 'Troy Davis', '2012-10-23'),\n",
       " (11681, 221, 'Richard Evans', '2005-05-08'),\n",
       " (36960, 216, 'Abigail Jones', '2007-10-05'),\n",
       " (63668, 298, 'Eric Ramirez', '2006-01-19'),\n",
       " (21377, 64, 'Kelly Cardenas', '2008-01-04'),\n",
       " (62666, 47, 'Alicia Cobb', '2009-11-22'),\n",
       " (47698, 70, 'Dr. Brenda Andrews', '2002-04-18'),\n",
       " (38616, 59, 'Michael Freeman', '2002-08-15'),\n",
       " (22889, 92, 'Mark Robinson', '2018-02-13'),\n",
       " (65952, 204, 'Ryan Mccarthy', '2003-12-12'),\n",
       " (43849, 210, 'Ruben Avila', '2000-02-12'),\n",
       " (99451, 275, 'Paul Gonzalez MD', '2017-11-23'),\n",
       " (44011, 214, 'Kevin Burton', '2001-11-14'),\n",
       " (80191, 257, 'Richard Little', '2014-01-05'),\n",
       " (41534, 292, 'Erin Hill', '2013-01-28'),\n",
       " (26026, 61, 'Monica Guzman', '2003-12-08'),\n",
       " (94349, 265, 'Kathryn Riley', '2008-02-09'),\n",
       " (27321, 292, 'Alex Watts', '2001-07-19'),\n",
       " (62280, 232, 'Mark Holloway', '2015-07-23'),\n",
       " (67785, 248, 'Joshua Lambert', '2002-06-25'),\n",
       " (6815, 166, 'William Wood', '2010-03-07'),\n",
       " (73752, 86, 'Steven Aguirre', '2012-03-21'),\n",
       " (37093, 253, 'Gabrielle Johnson', '2014-08-06'),\n",
       " (88680, 216, 'Andrew Thomas', '2001-12-19'),\n",
       " (7840, 283, 'Patrick Collins', '2009-04-01'),\n",
       " (45961, 147, 'Margaret Jones', '2014-07-27'),\n",
       " (99352, 296, 'Walter Johnson', '2000-07-20'),\n",
       " (97684, 147, 'Joseph Collins', '2015-10-09'),\n",
       " (34683, 165, 'Wanda Wilson', '2007-09-07'),\n",
       " (63739, 152, 'Erik White Jr.', '2013-03-30'),\n",
       " (91899, 60, 'Mariah Kim', '2000-07-23'),\n",
       " (19577, 204, 'Craig Duke', '2015-07-25'),\n",
       " (39529, 54, 'Todd Johnson', '2015-06-14'),\n",
       " (63886, 161, 'Robert Everett', '2009-07-24'),\n",
       " (18099, 252, 'Nicholas Jones', '2000-10-04'),\n",
       " (32755, 151, 'Lisa Rodriguez', '2001-06-24'),\n",
       " (30399, 148, 'Kenneth Hicks', '2005-05-21'),\n",
       " (77709, 77, 'Dana Knox', '2011-09-08'),\n",
       " (37913, 163, 'Alan Carter', '2011-07-11'),\n",
       " (7444, 165, 'Patricia Larson', '2003-03-19'),\n",
       " (34644, 37, 'Michael Gonzalez', '2004-05-11'),\n",
       " (8681, 205, 'Melissa Charles', '2004-01-29'),\n",
       " (44008, 239, 'Michelle Morgan', '2015-11-01'),\n",
       " (76456, 131, 'Valerie Brown', '2018-03-17'),\n",
       " (10015, 39, 'Adam Gonzales', '2015-07-22'),\n",
       " (46122, 276, 'Andrew Phillips', '2007-10-23'),\n",
       " (50893, 174, 'Diana Allen', '2005-09-15'),\n",
       " (28536, 221, 'Angela Buchanan', '2004-01-30'),\n",
       " (81158, 149, 'Michelle Acosta', '2008-08-08'),\n",
       " (97952, 63, 'Jason Mitchell', '2014-06-08'),\n",
       " (83589, 232, 'Wesley Anderson', '2007-09-15'),\n",
       " (11222, 192, 'Alyssa Smith', '2011-11-30'),\n",
       " (97859, 25, 'Lindsay Hayes', '2010-05-19'),\n",
       " (68198, 91, 'Daniel Garner', '2015-08-21'),\n",
       " (26109, 217, 'Michael Torres', '2005-05-18'),\n",
       " (67191, 53, 'Jordan Davis', '2002-02-06'),\n",
       " (98884, 41, 'Rhonda Estes', '2009-03-08'),\n",
       " (89091, 1, 'Tommy Hanna', '2008-04-17'),\n",
       " (71908, 21, 'Ivan Jenkins', '2017-03-29'),\n",
       " (14197, 5, 'William Vang', '2004-12-27'),\n",
       " (29845, 80, 'Timothy Davis', '2012-12-05'),\n",
       " (23603, 59, 'Joseph Thomas', '2008-11-17'),\n",
       " (45412, 117, 'Kristen Martinez', '2004-06-05'),\n",
       " (84675, 109, 'Scott Hernandez', '2017-06-09'),\n",
       " (55313, 237, 'Charles Marshall', '2017-10-21'),\n",
       " (75818, 68, 'Holly Charles', '2005-09-09'),\n",
       " (44601, 182, 'Kristin Francis', '2003-01-25'),\n",
       " (85082, 73, 'Kathryn Anderson', '2000-11-11'),\n",
       " (81619, 291, 'Sylvia Anderson', '2012-05-18'),\n",
       " (28317, 115, 'Donald Price', '2015-02-07'),\n",
       " (19493, 282, 'Tyler Rivas', '2003-03-21'),\n",
       " (34504, 92, 'Carla Brown', '2007-06-22)')]"
      ]
     },
     "execution_count": 118,
     "metadata": {},
     "output_type": "execute_result"
    }
   ],
   "source": [
    "from CONSTANTES import PERSONAS\n",
    "from CONSTANTES import ATRACCIONES\n",
    "PERSONAS\n",
    "\n"
   ]
  },
  {
   "cell_type": "code",
   "execution_count": 86,
   "metadata": {},
   "outputs": [],
   "source": [
    "\n",
    "\n",
    "d = {}\n",
    "for ingreso, hora, nombre, año in PERSONAS:\n",
    "    if nombre not in d:\n",
    "        d[nombre] = [(ingreso, hora, año)]\n",
    "\n",
    "   "
   ]
  },
  {
   "cell_type": "code",
   "execution_count": 127,
   "metadata": {},
   "outputs": [
    {
     "data": {
      "text/plain": [
       "2"
      ]
     },
     "execution_count": 127,
     "metadata": {},
     "output_type": "execute_result"
    }
   ],
   "source": [
    "from datetime import date\n",
    "def calcular_edad(fecha_nac): #https://www.youtube.com/watch?v=SzZnsU2QvNQ\n",
    "    s = fecha_nac.split(\"-\")\n",
    "    tupla = ()\n",
    "    año = s[0]\n",
    "    mes = s[1]\n",
    "    dia = s[2]\n",
    "    fecha_nac_2 = date(int(año), int(mes), int(dia))\n",
    "    diferencia_fechas = date.today() - fecha_nac_2\n",
    "    diferencia_fechas_dias = diferencia_fechas.days\n",
    "    edad_numerica = diferencia_fechas_dias / 365.2425\n",
    "    edad = int(edad_numerica)\n",
    "    return edad\n",
    "\n",
    "\n",
    "\n"
   ]
  },
  {
   "cell_type": "code",
   "execution_count": 88,
   "metadata": {},
   "outputs": [],
   "source": [
    "#import random\n",
    "#b=[]\n",
    "#for i in d.keys():\n",
    "    #b.append(i)\n",
    "#print(b)\n",
    "#a = random.choice(b)\n",
    "#print(a)\n",
    "#del d[a]\n",
    "#del diccionario[<llave>]\n",
    "\n",
    "\n"
   ]
  },
  {
   "cell_type": "code",
   "execution_count": 89,
   "metadata": {},
   "outputs": [
    {
     "name": "stdout",
     "output_type": "stream",
     "text": [
      "{'Booster': [1, 500, 290000, 1], 'Rata Vacilona': [4, 1250, 250000, 4], 'Extreme': [28, 750, 260000, 3], 'Rana Loca': [6, 1700, 310000, 5], 'Top Gun': [26, 800, 390000, 5], 'MaxiDance': [17, 1750, 270000, 2], 'Boomerang': [11, 1050, 320000, 5], 'The Limit': [23, 1950, 360000, 5], 'Aladelta': [10, 1150, 330000, 2], 'Noria': [16, 900, 370000, 4], 'Barco Vikingo': [29, 1500, 350000, 4], 'Cataratas': [5, 1200, 200000, 2], 'Martillo': [19, 1550, 240000, 3], 'Jet Star': [24, 350, 230000, 1]}\n"
     ]
    }
   ],
   "source": [
    "from CONSTANTES import ATRACCIONES\n",
    "print(ATRACCIONES)"
   ]
  },
  {
   "cell_type": "code",
   "execution_count": 128,
   "metadata": {},
   "outputs": [
    {
     "name": "stdout",
     "output_type": "stream",
     "text": [
      "[('Extreme', [28, 750, 260000, 3]), ('MaxiDance', [17, 1750, 270000, 2]), ('Booster', [1, 500, 290000, 1]), ('Rana Loca', [6, 1700, 310000, 5]), ('Boomerang', [11, 1050, 320000, 5]), ('Aladelta', [10, 1150, 330000, 2]), ('Barco Vikingo', [29, 1500, 350000, 4]), ('The Limit', [23, 1950, 360000, 5]), ('Noria', [16, 900, 370000, 4]), ('Top Gun', [26, 800, 390000, 5])]\n",
      "{'Extreme': [[28, 750, 260000, 3]], 'MaxiDance': [[17, 1750, 270000, 2]], 'Booster': [[1, 500, 290000, 1]], 'Rana Loca': [[6, 1700, 310000, 5]], 'Boomerang': [[11, 1050, 320000, 5]], 'Aladelta': [[10, 1150, 330000, 2]], 'Barco Vikingo': [[29, 1500, 350000, 4]], 'The Limit': [[23, 1950, 360000, 5]], 'Noria': [[16, 900, 370000, 4]], 'Top Gun': [[26, 800, 390000, 5]]}\n"
     ]
    }
   ],
   "source": [
    "\n",
    "## atracciones: [capacidad, costo entrada, costo atraccion, minutos por vuelta]\n",
    "##[dinero, minuto de llegada, nombre, fecha nacimiento] \n",
    "    \n",
    "    \n",
    "##hacemos una lista de las 4 atracciones más baratas\n",
    "lista_ordenada_precio_atracciones =[]\n",
    "for i in ATRACCIONES.items():\n",
    "    lista_ordenada_precio_atracciones.append(i)\n",
    "\n",
    "lista_ordenada_precio_atracciones.sort()\n",
    "lista_ordenada_precio_atracciones.sort(key=lambda x: x[1][2])\n",
    "\n",
    "lista_cuatro_baratas = lista_ordenada_precio_atracciones[0:4]\n",
    "lista_sin_cuatro_baratas = lista_ordenada_precio_atracciones[4:]\n",
    "print(lista_sin_cuatro_baratas)\n",
    "\n",
    "##para pasar a diccionario:\n",
    "dic = {}\n",
    "for atraccion, lista in lista_sin_cuatro:\n",
    "    if atraccion not in d:\n",
    "        dic[atraccion] = [lista]\n",
    "print(dic)\n",
    "\n",
    "\n",
    "class Personas:\n",
    "    def __init__ (self):\n",
    "        pass\n",
    "\n",
    "class Dueño(Personas):\n",
    "    def __init__(self, lista_cuatro_baratas, hc = 100000):\n",
    "        self.lista_cuatro_baratas = lista_cuatro_baratas\n",
    "        self.hc = hc\n",
    "\n",
    "class Visitantes(Personas):\n",
    "    def __init__(self, dinero, minuto_de_llegada, nombre, fecha_nacimiento):\n",
    "        self.dinero = dinero\n",
    "        self.minuto_de_llegada = self.minuto_de_llegada\n",
    "        self.nombre = nombre\n",
    "        self.fecha_nacimiento = fecha_nacimiento\n",
    "    \n",
    "    def calcular_edad(self, fecha_nac): #https://www.youtube.com/watch?v=SzZnsU2QvNQ\n",
    "        s = fecha_nac.split(\"-\")\n",
    "        tupla = ()\n",
    "        año = s[0]\n",
    "        mes = s[1]\n",
    "        dia = s[2]\n",
    "        fecha_nac_2 = date(int(año), int(mes), int(dia))\n",
    "        diferencia_fechas = date.today() - fecha_nac_2\n",
    "        diferencia_fechas_dias = diferencia_fechas.days\n",
    "        edad_numerica = diferencia_fechas_dias / 365.2425\n",
    "        edad = int(edad_numerica)\n",
    "        return edad\n",
    "\n",
    "    \n",
    "        \n",
    "    "
   ]
  },
  {
   "cell_type": "code",
   "execution_count": null,
   "metadata": {},
   "outputs": [],
   "source": [
    "\n"
   ]
  },
  {
   "cell_type": "code",
   "execution_count": null,
   "metadata": {},
   "outputs": [],
   "source": []
  },
  {
   "cell_type": "code",
   "execution_count": null,
   "metadata": {},
   "outputs": [],
   "source": []
  }
 ],
 "metadata": {
  "kernelspec": {
   "display_name": "Python 3",
   "language": "python",
   "name": "python3"
  },
  "language_info": {
   "codemirror_mode": {
    "name": "ipython",
    "version": 3
   },
   "file_extension": ".py",
   "mimetype": "text/x-python",
   "name": "python",
   "nbconvert_exporter": "python",
   "pygments_lexer": "ipython3",
   "version": "3.6.4"
  }
 },
 "nbformat": 4,
 "nbformat_minor": 2
}
